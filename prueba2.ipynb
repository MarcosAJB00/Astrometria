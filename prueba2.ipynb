{
 "cells": [
  {
   "cell_type": "code",
   "execution_count": 1,
   "id": "c547297d-2ec0-477f-b9a3-6f6291b5b529",
   "metadata": {},
   "outputs": [],
   "source": [
    "import pandas as pd\n",
    "import matplotlib.pyplot as plt\n",
    "import numpy as np\n",
    "import scipy.stats as st"
   ]
  },
  {
   "cell_type": "code",
   "execution_count": 2,
   "id": "a19b9294-6b90-4f0c-bc45-80e9d946edab",
   "metadata": {},
   "outputs": [
    {
     "data": {
      "text/html": [
       "<div>\n",
       "<style scoped>\n",
       "    .dataframe tbody tr th:only-of-type {\n",
       "        vertical-align: middle;\n",
       "    }\n",
       "\n",
       "    .dataframe tbody tr th {\n",
       "        vertical-align: top;\n",
       "    }\n",
       "\n",
       "    .dataframe thead th {\n",
       "        text-align: right;\n",
       "    }\n",
       "</style>\n",
       "<table border=\"1\" class=\"dataframe\">\n",
       "  <thead>\n",
       "    <tr style=\"text-align: right;\">\n",
       "      <th></th>\n",
       "      <th>MAG</th>\n",
       "      <th>PHI</th>\n",
       "      <th>error_inf</th>\n",
       "      <th>error_sup</th>\n",
       "    </tr>\n",
       "  </thead>\n",
       "  <tbody>\n",
       "    <tr>\n",
       "      <th>0</th>\n",
       "      <td>-23.183</td>\n",
       "      <td>0.000003</td>\n",
       "      <td>0.000001</td>\n",
       "      <td>0.000006</td>\n",
       "    </tr>\n",
       "    <tr>\n",
       "      <th>1</th>\n",
       "      <td>-23.020</td>\n",
       "      <td>0.000005</td>\n",
       "      <td>0.000003</td>\n",
       "      <td>0.000011</td>\n",
       "    </tr>\n",
       "    <tr>\n",
       "      <th>2</th>\n",
       "      <td>-22.870</td>\n",
       "      <td>0.000017</td>\n",
       "      <td>0.000013</td>\n",
       "      <td>0.000026</td>\n",
       "    </tr>\n",
       "    <tr>\n",
       "      <th>3</th>\n",
       "      <td>-22.698</td>\n",
       "      <td>0.000035</td>\n",
       "      <td>0.000025</td>\n",
       "      <td>0.000044</td>\n",
       "    </tr>\n",
       "    <tr>\n",
       "      <th>4</th>\n",
       "      <td>-22.565</td>\n",
       "      <td>0.000082</td>\n",
       "      <td>0.000058</td>\n",
       "      <td>0.000105</td>\n",
       "    </tr>\n",
       "  </tbody>\n",
       "</table>\n",
       "</div>"
      ],
      "text/plain": [
       "      MAG       PHI  error_inf  error_sup\n",
       "0 -23.183  0.000003   0.000001   0.000006\n",
       "1 -23.020  0.000005   0.000003   0.000011\n",
       "2 -22.870  0.000017   0.000013   0.000026\n",
       "3 -22.698  0.000035   0.000025   0.000044\n",
       "4 -22.565  0.000082   0.000058   0.000105"
      ]
     },
     "execution_count": 2,
     "metadata": {},
     "output_type": "execute_result"
    }
   ],
   "source": [
    "df = pd.read_csv(\"datos.csv\")\n",
    "df.head()"
   ]
  },
  {
   "cell_type": "code",
   "execution_count": 3,
   "id": "5fa525de-beb2-4fe3-a4b5-e299f92d7193",
   "metadata": {},
   "outputs": [],
   "source": [
    "def schechter(M,phi0,a0,M0):\n",
    "    lista = []\n",
    "    for i in range(len(M)):\n",
    "        p = 10**((-0.4*(M[i] - M0))*(a0 + 1))\n",
    "        r = np.exp(-10**(-0.4*(M[i] -M0 )))\n",
    "        y =y=0.4 * np.log(10) * phi0 * p * r\n",
    "        lista.append(y)\n",
    "    return(lista)"
   ]
  },
  {
   "cell_type": "code",
   "execution_count": 4,
   "id": "5091588b-6574-48b4-befb-40d1acffacce",
   "metadata": {},
   "outputs": [],
   "source": [
    "error_s =  df['error_sup'] - df['PHI']\n",
    "error_i =  -df['error_inf'] + df['PHI']\n",
    "sigma = np.abs((error_s - error_i)/2)"
   ]
  },
  {
   "cell_type": "code",
   "execution_count": 5,
   "id": "d06f3422-3480-48f5-bd77-702dc1854c6e",
   "metadata": {},
   "outputs": [],
   "source": [
    "def likelihood(M,phi,phi0,a0,M0,sigma):\n",
    "    phi_model = schechter(M,phi0,a0,M0) # valor de phi calculado por el modelo \n",
    "    c = 1/(np.sqrt(2*np.pi)*sigma)\n",
    "    w = c*((phi - phi_model))**2/((np.sqrt(2)*sigma))**2\n",
    "    p = np.sum(w)/100000000 #esto para q me queden mas chicos los valores\n",
    "    return(p)"
   ]
  },
  {
   "cell_type": "code",
   "execution_count": 6,
   "id": "6daa9329-db75-415a-8133-a33dbb58e5c6",
   "metadata": {},
   "outputs": [],
   "source": [
    "#fi0 = np.linspace(0.007,0.022,100)\n",
    "#A0 = np.linspace(-1.80,-0.6,100)\n",
    "#m0 = np.linspace(-24,-18,100)\n",
    "#h = []\n",
    "#for i in range(100):        \n",
    "#    g = likelihood(df['MAG'],df['PHI'],fi0[i], A0[i],m0[i],sigma)\n",
    "#    h.append(g)"
   ]
  },
  {
   "cell_type": "code",
   "execution_count": 7,
   "id": "150aea84-2358-47a4-b570-35b80aa702a0",
   "metadata": {},
   "outputs": [],
   "source": [
    "#plt.plot(h,'o')"
   ]
  },
  {
   "cell_type": "markdown",
   "id": "89a3f417-e1c2-4860-9065-e1d46308936a",
   "metadata": {},
   "source": [
    "Voy a tomar los limites de los parametros como  +-%50 de los dados por Baltom "
   ]
  },
  {
   "cell_type": "code",
   "execution_count": 25,
   "id": "f60ab493-b140-4c39-9d0b-6115da526830",
   "metadata": {},
   "outputs": [],
   "source": [
    "philim = [0.007,0.022]\n",
    "Alim = [-1.8,-0.6]\n",
    "Mlim = [-25,-17] # tome el %25"
   ]
  },
  {
   "cell_type": "code",
   "execution_count": 9,
   "id": "8aa83429-2602-49d5-8689-3caa9a38c555",
   "metadata": {},
   "outputs": [],
   "source": [
    "def priors(phi0,a0,m0,philim,Alim,Mlim):\n",
    "    if (philim[0]<= phi0) & (phi0 <= philim[1]) & (a0 >= Alim[0]) & (a0 <= Alim[1]) & (Mlim[0]<= m0) & (Mlim[1]>= m0):\n",
    "        return 1 \n",
    "    else:\n",
    "        return 0 "
   ]
  },
  {
   "cell_type": "code",
   "execution_count": 10,
   "id": "605b7237-b67e-49a0-83cf-761a8d0bb9ba",
   "metadata": {},
   "outputs": [
    {
     "data": {
      "text/plain": [
       "0"
      ]
     },
     "execution_count": 10,
     "metadata": {},
     "output_type": "execute_result"
    }
   ],
   "source": [
    "priors(0.1,-1.2,-21,philim,Alim,Mlim) # aca phi no pertenece"
   ]
  },
  {
   "cell_type": "code",
   "execution_count": 11,
   "id": "e5849696-38d1-412c-a3a8-25a2fa6fd9ce",
   "metadata": {},
   "outputs": [],
   "source": [
    "def posteriori (m,f,phi0,a0,m0,sigma,philim,Alim,Mlim): # esto es el log de la posteriori\n",
    "    post = likelihood(m,f,phi0,a0,m0,sigma) + np.log(priors(phi0,a0,m0,philim,Alim,Mlim))\n",
    "    return (post)"
   ]
  },
  {
   "cell_type": "code",
   "execution_count": 39,
   "id": "4c5fb696-e94c-4868-80de-9e8773f41f4d",
   "metadata": {},
   "outputs": [
    {
     "data": {
      "text/plain": [
       "20.387074603715536"
      ]
     },
     "execution_count": 51,
     "metadata": {},
     "output_type": "execute_result"
    }
   ],
   "source": [
    "posteriori (df['MAG'],df['PHI'],0.0146,-1.2,-20.83,sigma,philim,Alim,Mlim)"
   ]
  },
  {
   "cell_type": "code",
   "execution_count": 60,
   "id": "261f851b-8077-4c6e-aa62-b3fde86a21c8",
   "metadata": {},
   "outputs": [
    {
     "data": {
      "image/png": "[encoded data removed]",
      "text/plain": [
       "<Figure size 432x288 with 1 Axes>"
      ]
     },
     "metadata": {
      "needs_background": "light"
     },
     "output_type": "display_data"
    }
   ],
   "source": [
    "f0 = np.linspace(0.007,0.020,30)\n",
    "a =[]\n",
    "for i in range(30):\n",
    "    a.append(posteriori (df['MAG'],df['PHI'],f0[i],-1.2,-20.83,sigma,philim,Alim,Mlim))\n",
    "plt.plot(f0,a,'o')\n",
    "plt.plot([0.0146,0.0146], [0,350],color=\"red\")\n",
    "plt.show()"
   ]
  },
  {
   "cell_type": "code",
   "execution_count": 66,
   "id": "5d5e71b6-175e-49e9-8d40-055400f22e38",
   "metadata": {},
   "outputs": [],
   "source": [
    "def metropolis(m,f,phi0,a0,m0,N,philim,Alim,Mlim,sigma): #aca los phi0,a0 y m0 son valores iniciales \n",
    " #de donde va a comensar el algoritmo\n",
    "    param = np.zeros((N,3))\n",
    "    if priors(phi0,a0,m0,philim,Alim,Mlim) == 1:\n",
    "        param[0][0],param[0][1],param[0][2] = phi0,a0,m0\n",
    "    else:\n",
    "        return ('Los parametros no estan dentro de los valores permitidos')\n",
    "    poste = []\n",
    "    rl = []\n",
    "    for i in range(N-1):\n",
    "        h = posteriori (m,f, param[i][0],param[i][1],param[i][2],sigma,philim,Alim,Mlim)\n",
    "        poste.append(h)\n",
    "        param[i+1][0] = param[i][0] + ((np.random.rand()*2.0)-1.0)*((philim[1]-philim[0])/100)\n",
    "        param[i+1][1] = param[i][1] + ((np.random.rand()*2.0)-1.0)*((Alim[1]-Alim[0])/100)\n",
    "        param[i+1][2] = param[i][2] + ((np.random.rand()*2.0)-1.0)*((Mlim[1]-Mlim[0])/100)      \n",
    "        #\n",
    "        if priors(param[i+1][0],param[i+1][1],param[i+1][2],philim,Alim,Mlim) == 1:\n",
    "            k = posteriori (m,f, param[i+1][0],param[i+1][1],param[i+1][2],sigma,philim,Alim,Mlim)\n",
    "            r = h/k\n",
    "            rl.append(r)  \n",
    "        #r = np.exp(r)           \n",
    "            if r >= 1.:\n",
    "                continue #acepto derecho\n",
    "            else:\n",
    "                random = np.random.random()\n",
    "                if random < r:\n",
    "                    continue\n",
    "                else:\n",
    "                    param[i+1][0] = param[i][0] \n",
    "                    param[i+1][1] = param[i][1]\n",
    "                    param[i+1][2] = param[i][2]\n",
    "        else:\n",
    "            param[i+1][0] = param[i][0] \n",
    "            param[i+1][1] = param[i][1]\n",
    "            param[i+1][2] = param[i][2]\n",
    "    return(poste,rl,param)"
   ]
  },
  {
   "cell_type": "code",
   "execution_count": 68,
   "id": "43cb5647-7f14-4825-a268-03d321f620a1",
   "metadata": {},
   "outputs": [
    {
     "data": {
      "text/plain": [
       "[<matplotlib.lines.Line2D at 0x7f052f5db5b0>]"
      ]
     },
     "execution_count": 68,
     "metadata": {},
     "output_type": "execute_result"
    },
    {
     "data": {
      "image/png": "[encoded data removed]",
      "text/plain": [
       "<Figure size 432x288 with 1 Axes>"
      ]
     },
     "metadata": {
      "needs_background": "light"
     },
     "output_type": "display_data"
    }
   ],
   "source": [
    "pos = metropolis(df['MAG'],df['PHI'],0.020,-0.8,-18.4,1000,philim,Alim,Mlim,sigma)[0]\n",
    "plt.plot(pos,'o')\n",
    "#pos"
   ]
  },
  {
   "cell_type": "code",
   "execution_count": null,
   "id": "18784b3a-4781-4323-8fae-e45aeef51221",
   "metadata": {},
   "outputs": [],
   "source": []
  }
 ],
 "metadata": {
  "kernelspec": {
   "display_name": "Python 3 (ipykernel)",
   "language": "python",
   "name": "python3"
  },
  "language_info": {
   "codemirror_mode": {
    "name": "ipython",
    "version": 3
   },
   "file_extension": ".py",
   "mimetype": "text/x-python",
   "name": "python",
   "nbconvert_exporter": "python",
   "pygments_lexer": "ipython3",
   "version": "3.9.7"
  }
 },
 "nbformat": 4,
 "nbformat_minor": 5
}
