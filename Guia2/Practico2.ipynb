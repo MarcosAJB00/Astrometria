{
 "cells": [
  {
   "cell_type": "markdown",
   "id": "a1cd38ea-0296-4176-b30b-349e91b0cd5c",
   "metadata": {},
   "source": [
    "### SEGUNDO INFORME DE ASTROMETRIA"
   ]
  },
  {
   "cell_type": "markdown",
   "id": "c6c11a6e-4aa5-4e65-867d-44a278aaf417",
   "metadata": {},
   "source": [
    "Baracchi, Marcos.\n",
    "Gmail: marcos.baracchi@mi.unc.edu.ar"
   ]
  },
  {
   "cell_type": "markdown",
   "id": "3fc204fd-aa07-4e83-99a0-4590ae5f5427",
   "metadata": {},
   "source": [
    "#### **1_Introducción**"
   ]
  },
  {
   "cell_type": "markdown",
   "id": "b5330bb6-e29c-4eba-a74b-ee1fc97b712c",
   "metadata": {},
   "source": [
    "En este trabajo se desarrollo el metodo de la tranformacion inversa para obtener una muestra de datos generada aleatoriamente que sigua una determinada dsitribucion de probabilidad. Tambien se realizaron el Experimento de Buffon para determinar el valor de $ \\pi $ , el Remuestreo Bootstrap para asignarle el error a un estadistico y el Test de chi–cuadrado para ver cuando podemos distinguir de que distribucion proviene una muestra."
   ]
  },
  {
   "cell_type": "markdown",
   "id": "a3bdfc73-3705-4b10-9eda-2d7df79a9f44",
   "metadata": {},
   "source": [
    "#### **2_Datos y Resultados** "
   ]
  },
  {
   "cell_type": "markdown",
   "id": "f0d8d4f0-7f6d-41e8-83aa-345d6c5564a4",
   "metadata": {},
   "source": [
    "#### **2.1_ Ejercicio 3:** Distribución de Fisher-Tippett"
   ]
  },
  {
   "cell_type": "markdown",
   "id": "91a341a9-a711-4f6e-bc81-71c42c37b6b2",
   "metadata": {},
   "source": [
    "La distibucion de Fisher-Tippett o tambien conocida como distribucion de valor extremo generalizado (GEV), tiene la siguiente forma funcional  $ \\large \\frac{1}{\\sigma} \\, t (x) ^ {\\xi + 1} e ^ {- t (x)}  $ donde si  $ \\xi = 0 $ nos queda la funcion $ \\large t(x) = e ^ {-\\frac{x-\\mu}{\\sigma}} $ en nuestro caso vamos a tomar $ \\mu=0 $ y $ \\lambda =1/\\sigma = 1 $. (1)"
   ]
  },
  {
   "cell_type": "code",
   "execution_count": 1,
   "id": "09679ff7-85ac-4769-a81d-71afe25b2a0a",
   "metadata": {},
   "outputs": [],
   "source": [
    "import numpy as np"
   ]
  },
  {
   "cell_type": "code",
   "execution_count": 2,
   "id": "5c1e9c6f-27b3-4699-bc99-30ffada521d7",
   "metadata": {},
   "outputs": [],
   "source": [
    "def t(x,l = 1): # defino t\n",
    "    t = np.exp(-x*l)\n",
    "    return (t)   "
   ]
  },
  {
   "cell_type": "code",
   "execution_count": 3,
   "id": "76717600-3b39-45d8-a801-4d5e4c872b35",
   "metadata": {},
   "outputs": [],
   "source": [
    "def pdf(x,l = 1): #defino la distribucion \n",
    "    p = l*t(x)*np.exp(-t(x))\n",
    "    return (p)"
   ]
  },
  {
   "cell_type": "code",
   "execution_count": 4,
   "id": "4d49116c-2c43-4c7c-9a23-295daaea2084",
   "metadata": {},
   "outputs": [],
   "source": [
    "def cdf(x, l = 1): # defino la inversa\n",
    "    P = np.exp(-t(x,l = 1))\n",
    "    return(P)"
   ]
  },
  {
   "cell_type": "code",
   "execution_count": 5,
   "id": "30da5bcb-c1dc-44ab-89de-3f7b627dde8f",
   "metadata": {},
   "outputs": [],
   "source": [
    "def invcdf(y,l = 1): # defino la inversa de la acumulada\n",
    "    f = -(1/l)*np.log(-np.log(y))\n",
    "    return(f)"
   ]
  },
  {
   "cell_type": "markdown",
   "id": "2163d238-c454-4398-a73c-966edd591733",
   "metadata": {},
   "source": [
    "Ahora, a la funcion inversa le aplico el degenerador de numeros aleatorios con distribucion uniforme y obtengo como resultado los valores que siguen la distribucion de Fisher-Tippett"
   ]
  },
  {
   "cell_type": "code",
   "execution_count": 6,
   "id": "a1d8caf5-8f4d-4ab9-99d1-cd4eb450cedc",
   "metadata": {},
   "outputs": [],
   "source": [
    "import matplotlib.pyplot as plt"
   ]
  },
  {
   "cell_type": "code",
   "execution_count": 7,
   "id": "b2f82b02-1b38-4294-94d0-27f90b5263ea",
   "metadata": {},
   "outputs": [
    {
     "data": {
      "image/png": "[encoded data removed]",
      "text/plain": [
       "<Figure size 432x288 with 1 Axes>"
      ]
     },
     "metadata": {
      "needs_background": "light"
     },
     "output_type": "display_data"
    }
   ],
   "source": [
    "y = np.random.random(100000)\n",
    "g = invcdf(y)\n",
    "plt.hist(g, bins='auto')\n",
    "plt.title('Distribucion de Fisher-Tippett empirica',fontsize = 18)\n",
    "plt.xlabel('Valores',fontsize = 14)\n",
    "plt.ylabel('PDF',fontsize = 14)\n",
    "plt.show()"
   ]
  },
  {
   "cell_type": "markdown",
   "id": "05983ce9-3580-4368-b392-c95f0ebcad8a",
   "metadata": {},
   "source": [
    "Luego, podemos comparar el valor medio de la muestra que obtuvimos con el teorico E($\\lambda$)"
   ]
  },
  {
   "cell_type": "code",
   "execution_count": 8,
   "id": "68050a0a-a60a-4770-940e-2ea91e3364a6",
   "metadata": {},
   "outputs": [],
   "source": [
    "def E(l=1):\n",
    "    j = 0.57721/l\n",
    "    return(j)"
   ]
  },
  {
   "cell_type": "code",
   "execution_count": 9,
   "id": "5f7ec94d-3db6-475c-bbb2-2f80e27e23c8",
   "metadata": {},
   "outputs": [
    {
     "name": "stdout",
     "output_type": "stream",
     "text": [
      "-0.004614016621986461\n"
     ]
    }
   ],
   "source": [
    "k = np.mean(g)-E()\n",
    "print(k)"
   ]
  },
  {
   "cell_type": "markdown",
   "id": "1cd77033-b4c2-4721-8835-0340b374059b",
   "metadata": {},
   "source": [
    "En donde vemos que la diferencia tiende a cero por lo que los resultados obtenidos con este metodo son buenos."
   ]
  },
  {
   "cell_type": "markdown",
   "id": "99ad68ce-4ccd-43f7-9075-39591763da56",
   "metadata": {},
   "source": [
    "#### **2.2_ Ejercicio 4:** Metodo de la transformada inversa: distribucion de Poisson"
   ]
  },
  {
   "cell_type": "markdown",
   "id": "726448fb-f743-446f-8f9a-cba283bd2f95",
   "metadata": {},
   "source": [
    "En este ejecicio lo que hicimos fue simular la entrada de clientes a una tienda como un proceso de Poisson de tasa λ = 5/h, hasta un tiempo T=3 h."
   ]
  },
  {
   "cell_type": "code",
   "execution_count": 10,
   "id": "4f537d23-34dc-4ac2-9807-b8a31bbf8926",
   "metadata": {},
   "outputs": [],
   "source": [
    "def pdf(t,l = 5): # el t seria el tiempo y el l el lambda (districucion de probablilidades)\n",
    "    f = l*np.exp(-l*t)\n",
    "    return(f)\n",
    "def cdf(t,l = 5):\n",
    "    F = -np.exp(-l*t) + 1\n",
    "    return(F)\n",
    "def invcdf(y,l = 5):\n",
    "    t = -np.log(1-y)/l \n",
    "    return(t)"
   ]
  },
  {
   "cell_type": "markdown",
   "id": "33a4af29-c4a6-48a6-8899-d81a6f00b406",
   "metadata": {},
   "source": [
    "Ahora, a la funcion inversa le aplico el degenerador de numeros aleatorios con distribucion uniforme y obtengo como resultado la forma funcional de la probablididad de que ingrese un nuevo cliente en funcion del tiempo. Si luego realizo la suma acumulada de estos valores en funcion del ttiempo obtengo el siguiente grafico:"
   ]
  },
  {
   "cell_type": "code",
   "execution_count": 11,
   "id": "709102c0-e32c-4407-b8e0-2b474aa30f9e",
   "metadata": {},
   "outputs": [
    {
     "data": {
      "image/png": "[encoded data removed]",
      "text/plain": [
       "<Figure size 432x288 with 1 Axes>"
      ]
     },
     "metadata": {
      "needs_background": "light"
     },
     "output_type": "display_data"
    }
   ],
   "source": [
    "for i in range(20):\n",
    "    y = np.random.random(100)\n",
    "    t = invcdf(y)\n",
    "    plt.plot(np.cumsum(t),np.arange(100))\n",
    "plt.title('Clientes por dia a lo largo de 20 dias',fontsize = 18)\n",
    "plt.xlabel('Tiempo',fontsize = 14)\n",
    "plt.ylabel('Cliente',fontsize = 14)\n",
    "plt.show()"
   ]
  },
  {
   "cell_type": "markdown",
   "id": "b8329900-2983-44c6-8b15-7833186152c0",
   "metadata": {},
   "source": [
    "#### **2.3_ Ejercicio 7:** Experimento de Buffon"
   ]
  },
  {
   "cell_type": "markdown",
   "id": "0f9aee58-8ff3-4712-8ff0-1b4210175b68",
   "metadata": {},
   "source": [
    "Aca se realizo el experimento de Buffon para obtener un valor aproximado de $\\pi$, este experimento consiste en tirar una determinada cantidad de agujas sobre una mesa y ver si estas mismas tocan las lineas dibujadas en las misma."
   ]
  },
  {
   "cell_type": "markdown",
   "id": "f9f138d3-3632-4ac8-b115-07ea24cd896a",
   "metadata": {},
   "source": [
    "##### **A) Escriba la funcion densidad de probabilidad de que la aguja caiga con parametros (x,θ)**"
   ]
  },
  {
   "cell_type": "markdown",
   "id": "542c7843-0847-476e-a9c7-e47780ae3106",
   "metadata": {},
   "source": [
    "Todos los valores tanto de x como de θ son igualmente problables por los q su pdf es una cte, luego integrando en el intervalo de valores posibles podemos despejar el valor de esa constante "
   ]
  },
  {
   "cell_type": "markdown",
   "id": "37918146-26d2-4855-bc5b-5fe08f3709c2",
   "metadata": {},
   "source": [
    "$$ \\int_{0}^{t/2} p(x) dx = 1 \\;\\int_{0}^{\\pi/2} p(\\theta) d\\theta = 1 $$"
   ]
  },
  {
   "cell_type": "markdown",
   "id": "cabfabca-ff35-46f7-b9d2-84f8f9dd3e13",
   "metadata": {},
   "source": [
    "De donde podemos obtenes que $ p(x)= 2/t \\: y \\: p(\\theta)= 2/\\pi $, con lo que la probabilidad conjunta $ p(x,\\theta) = 4/t\\pi $."
   ]
  },
  {
   "cell_type": "markdown",
   "id": "f00627b4-0c66-4296-ae79-97cb8da55a13",
   "metadata": {},
   "source": [
    "##### **B) ¿Cual es la probabilidad de que la aguja toque una raya?**"
   ]
  },
  {
   "cell_type": "markdown",
   "id": "acb88f68-ce76-46a0-820e-607cb5a6b32d",
   "metadata": {},
   "source": [
    "Para que la aguja toque la linea se debe cumplir que $ l/2\\sin(\\theta) \\geq x $, por lo que la probabilidad de que esto ocurra es: "
   ]
  },
  {
   "cell_type": "markdown",
   "id": "9c0acebf-66c9-4891-ae0e-fe11087915f9",
   "metadata": {},
   "source": [
    "$$  \\int _{0}^{\\pi/2} \\int _{0}^{l/2\\sin(\\theta)} p(x,\\theta) dx  d\\theta = 2l/t\\pi $$"
   ]
  },
  {
   "cell_type": "markdown",
   "id": "c99b87c5-2dc3-468a-8f79-bbc191bf0b29",
   "metadata": {},
   "source": [
    "##### **C) Simulacion del experimento**"
   ]
  },
  {
   "cell_type": "code",
   "execution_count": 12,
   "id": "6ffa2d38-dd17-45b7-b886-6474330c04fe",
   "metadata": {},
   "outputs": [
    {
     "name": "stdout",
     "output_type": "stream",
     "text": [
      "3.138554632820494\n"
     ]
    }
   ],
   "source": [
    "t = 10 #distancia entre las lineas\n",
    "l = 5 # tamaño de las agujas\n",
    "n = 500000\n",
    "x = np.random.random(n)*t/2\n",
    "theta = np.random.random(n)*np.pi/2\n",
    "h = []\n",
    "for i in range(n):\n",
    "    if (l/2)*np.sin(theta[i]) >= x[i]:\n",
    "        h.append(1)\n",
    "pi = 2*l/(t*len(h)/n)\n",
    "print(pi)"
   ]
  },
  {
   "cell_type": "markdown",
   "id": "286f9d78-c0f5-405e-881b-33c8e615e63e",
   "metadata": {},
   "source": [
    "Luego, vemos que el resultado obtenido con el experimento se aproxima bastante al valor teorico de $\\pi$"
   ]
  },
  {
   "cell_type": "markdown",
   "id": "6a6679b8-b50c-4461-a26d-a1bf981db767",
   "metadata": {},
   "source": [
    "#### **2.4_ Ejercicio 8:** Remuestreo Bootstrap"
   ]
  },
  {
   "cell_type": "markdown",
   "id": "37c894b4-16b3-4337-8c0a-f68dbd224796",
   "metadata": {},
   "source": [
    "En este ejercicio se trabajp sobre una distribucion normal al cual se le calculo su variancia y luego mediante el remuestreo Bootstrap se le determino su intervalo de confianza"
   ]
  },
  {
   "cell_type": "code",
   "execution_count": 13,
   "id": "78bbeabc-9b55-476b-a3f7-86074f4f3894",
   "metadata": {},
   "outputs": [
    {
     "name": "stdout",
     "output_type": "stream",
     "text": [
      "Donde la varianza de la muestra es: 7.530804777802858e-05\n"
     ]
    },
    {
     "data": {
      "image/png": "[encoded data removed]",
      "text/plain": [
       "<Figure size 432x288 with 1 Axes>"
      ]
     },
     "metadata": {
      "needs_background": "light"
     },
     "output_type": "display_data"
    }
   ],
   "source": [
    "n = 3000 #muestra de 3000 datos que siguen una distribucion normal con un dado sigma y una media\n",
    "sigma = 1.5\n",
    "mean = 2\n",
    "muestra= np.random.normal(loc = mean,scale = sigma,size= n)\n",
    "mean = np.mean(muestra)\n",
    "h = []\n",
    "for i in range(n):# el estadistico de prueba es la varianza \n",
    "    t = (muestra[i]-mean)**2\n",
    "    h.append(t)\n",
    "s = np.sqrt((np.cumsum(h[i]))/n)\n",
    "print('Donde la varianza de la muestra es:',s[0])\n",
    "plt.hist(muestra,bins='auto')\n",
    "plt.title('Distribusion de probabilidades',fontsize = 18)\n",
    "plt.xlabel('Valores',fontsize = 14)\n",
    "plt.ylabel('PDF',fontsize = 14)\n",
    "plt.show()"
   ]
  },
  {
   "cell_type": "markdown",
   "id": "108e26cc-b7fc-44af-9ce0-558e71cd6bcb",
   "metadata": {},
   "source": [
    "Ahora, defino mi funcion bootstrap la cual va a crear 1000 nuevos remuestreos y a cada uno de estos le va a calcular su varianza"
   ]
  },
  {
   "cell_type": "code",
   "execution_count": 14,
   "id": "c2cd4219-f42e-49d7-912e-0c9b76deb928",
   "metadata": {},
   "outputs": [],
   "source": [
    "def bootstrap(x,func,m = 1000): # esto me va a crear 1000 remuestreos en base a nuestra muestra\n",
    "    y = np.zeros(m)\n",
    "    for i in range(m):\n",
    "        _x= np.random.choice(x,size=len(x)) # esto es un remuestreo de x\n",
    "        y[i] = func(_x)\n",
    "    return(y)"
   ]
  },
  {
   "cell_type": "markdown",
   "id": "7807ce7a-00c1-4937-aa36-f8854b860a7b",
   "metadata": {},
   "source": [
    "Ahora, podemos ver la distibucion de estas varianzas "
   ]
  },
  {
   "cell_type": "code",
   "execution_count": 15,
   "id": "fed16ebd-83b7-4b57-bb82-359bb95d9e53",
   "metadata": {},
   "outputs": [
    {
     "data": {
      "image/png": "[encoded data removed]",
      "text/plain": [
       "<Figure size 432x288 with 1 Axes>"
      ]
     },
     "metadata": {
      "needs_background": "light"
     },
     "output_type": "display_data"
    }
   ],
   "source": [
    "boot = bootstrap(muestra,np.var,m = 10000)\n",
    "plt.hist(boot,bins='auto',density = True)\n",
    "plt.title('Distribusion de las varianzas',fontsize = 18)\n",
    "plt.xlabel('Varianzas',fontsize = 14)\n",
    "plt.ylabel('PDF',fontsize = 14)\n",
    "plt.show()"
   ]
  },
  {
   "cell_type": "markdown",
   "id": "eb626473-7af5-4eb1-a975-09f5bac4dc3b",
   "metadata": {},
   "source": [
    "Y ahora usando la funcion \"quantile\" podemos calcular el intervalo de confianza de esta distribucion, en la cual se tomo un nivel de significancia de $\\alpha = 0.05$"
   ]
  },
  {
   "cell_type": "code",
   "execution_count": 16,
   "id": "3584b931-d986-4e74-a3ca-77117bdd500e",
   "metadata": {},
   "outputs": [
    {
     "name": "stdout",
     "output_type": "stream",
     "text": [
      "En donde el intervalo de confianza es IC= [2.18237279 2.4133857 ]\n"
     ]
    }
   ],
   "source": [
    "h=np.quantile(boot,[0.025,0.975])\n",
    "print('En donde el intervalo de confianza es IC=',h)"
   ]
  },
  {
   "cell_type": "markdown",
   "id": "5a4dcf93-d650-488e-8134-f7dcbe6e4c28",
   "metadata": {},
   "source": [
    "#### **2.5_ Ejercicio 9:** Test de chi–cuadrado"
   ]
  },
  {
   "cell_type": "markdown",
   "id": "7d152fbf-457c-40a4-8e59-71f062a8944a",
   "metadata": {},
   "source": [
    "El método Chi-cuadrado, es considerado como una prueba no paramétrica que mide la discrepancia entre una distribución observada y otra teórica, indicando en qué medida existen diferencias entre ambas, por medio de una prueba de hipótesis PH."
   ]
  },
  {
   "cell_type": "markdown",
   "id": "76b15c18-f941-4b20-b0bb-86861c8e85df",
   "metadata": {},
   "source": [
    "##### **A) Simule 100 observaciones de la V.A. binomial y calcule las frecuencias de cada valor.**"
   ]
  },
  {
   "cell_type": "code",
   "execution_count": 17,
   "id": "1bce9963-e16e-4b1f-b9b8-ada4033c2fb0",
   "metadata": {},
   "outputs": [],
   "source": [
    "import scipy.stats as st"
   ]
  },
  {
   "cell_type": "code",
   "execution_count": 18,
   "id": "9a8fce19-ca70-46c9-b96e-3db5afbdadd3",
   "metadata": {},
   "outputs": [],
   "source": [
    "def muestra_bi():\n",
    "    y=[]\n",
    "    for i in range(100):        \n",
    "        x=st.binom.rvs(10, 0.4) \n",
    "        y.append(x)         \n",
    "    return(y) "
   ]
  },
  {
   "cell_type": "code",
   "execution_count": 19,
   "id": "36d30cae-b300-4ee4-9eb5-86f5c6a54e98",
   "metadata": {},
   "outputs": [
    {
     "data": {
      "image/png": "[encoded data removed]",
      "text/plain": [
       "<Figure size 432x288 with 1 Axes>"
      ]
     },
     "metadata": {
      "needs_background": "light"
     },
     "output_type": "display_data"
    },
    {
     "name": "stdout",
     "output_type": "stream",
     "text": [
      "Donde la frecuencia de los valores es: [0.01 0.02 0.11 0.24 0.23 0.25 0.11 0.03 0.   0.   0.  ]\n"
     ]
    }
   ],
   "source": [
    "datos = muestra_bi()\n",
    "h = plt.hist(datos, bins=np.arange(-0.5, 11.5, 1), color='brown',edgecolor='white',density = True)\n",
    "plt.xlabel(\"X\");plt.ylabel('Frecuencia')\n",
    "plt.xticks(range(0,11,1))\n",
    "plt.grid(axis = 'y', linestyle = '--', linewidth = 0.8)\n",
    "plt.show()\n",
    "print('Donde la frecuencia de los valores es:',h[0])"
   ]
  },
  {
   "cell_type": "markdown",
   "id": "7be58154-9c26-45e7-aecb-dd0b5d4dfe48",
   "metadata": {},
   "source": [
    "##### **B) Calcule el estadistico χ2 a partir del modelo y de los datos simulados.**"
   ]
  },
  {
   "cell_type": "code",
   "execution_count": 20,
   "id": "bd9d3f28-147b-4991-8ca7-24943d678cb9",
   "metadata": {},
   "outputs": [
    {
     "data": {
      "image/png": "[encoded data removed]",
      "text/plain": [
       "<Figure size 432x288 with 1 Axes>"
      ]
     },
     "metadata": {
      "needs_background": "light"
     },
     "output_type": "display_data"
    }
   ],
   "source": [
    "n = 10\n",
    "p =0.4\n",
    "x = np.arange(11)\n",
    "y = st.binom(n,p).pmf(x)\n",
    "plt.step(x,y,where = 'mid',lw=3,c='r',label=f\"B(n={n},p={p:.1f})\")\n",
    "plt.hist(datos, bins=np.arange(-0.5, 11.5, 1), color='blue',edgecolor='white',density = True)\n",
    "plt.legend()\n",
    "plt.xlabel(\"X\");plt.ylabel(\"Frecuencia\")\n",
    "plt.show()"
   ]
  },
  {
   "cell_type": "code",
   "execution_count": 21,
   "id": "36e2fa4c-a84c-4b7b-bc83-aab0d9da3b8f",
   "metadata": {},
   "outputs": [
    {
     "name": "stdout",
     "output_type": "stream",
     "text": [
      "El chi-cuadrado es: 0.04644716652549742\n"
     ]
    }
   ],
   "source": [
    "chi2 = 0\n",
    "for i in range(10):# el estadistico de prueba es la varianza \n",
    "    chi2 = chi2+(((h[0][i]-y[i])**2)/y[i])\n",
    "print('El chi-cuadrado es:',chi2)    "
   ]
  },
  {
   "cell_type": "markdown",
   "id": "18d6ca2c-b517-42b2-8971-521e5699459c",
   "metadata": {},
   "source": [
    "##### **C) Realice una prueba de hipotesis completa para decidir si los datos estan en acuerdo con el modelo.**"
   ]
  },
  {
   "cell_type": "markdown",
   "id": "76a39889-0eaa-413b-875b-c79672ee6d10",
   "metadata": {},
   "source": [
    "Hipótesis\n",
    "Hipótesis nula $ H_{0} = $  La muestra de la distribución empírica sigue la distribución Binomial teórica\n",
    "\n",
    "Hipótesis alternativa $ H_{1} = $ La muestra de la distribución empírica no sigue la distribución Binomial teórica\n",
    "\n",
    "Zona de aceptación: $ \\large \\chi^2 < \\chi^2_{(1-\\alpha);gl} $\n",
    "\n",
    "Zona de rechazo:  $ \\large \\chi^2 > \\chi^2_{(1-\\alpha);gl} $\n",
    "\n",
    "donde tomamos $ \\alpha = 0.05 $ y los grados de libertad son $ gl = 10 $, con lo que nos queda un chi de comparacion $ \\large \\chi^2_{(0.95);10}\\small =18.3 $ (2)\n",
    "\n",
    "Luego, tenemos que nuestro $ \\large \\chi^2 \\small = 0.015 $ por lo que nuestro chi-cuadrado cae dentro de la zona de aceptacion con lo cual no podemos rechazar la hipotesis nula $ H_{0} $."
   ]
  },
  {
   "cell_type": "markdown",
   "id": "857bbf02-c012-4cde-bd86-7bad81f82674",
   "metadata": {},
   "source": [
    "##### **D) Calcule el valor-p de la prueba.**"
   ]
  },
  {
   "cell_type": "markdown",
   "id": "006bf776-3bef-488a-8a61-2f2826ced11f",
   "metadata": {},
   "source": [
    "El valor-p se puede calcular de la siguiente forma: $$ p-value = P(\\chi^2 > \\chi^2_{0}|H_{0}) = 1 - P(\\chi^2 < \\chi^2_{0}) = 1 - F(\\chi^2_{0}) $$\n",
    "\n",
    "donde $ \\chi^2 $ la variable aleatoria estadístico chi-cuadrado y $ \\chi^2_{0} $ el valor calculado, P la función probabilidad de la distribución del estadístico de prueba y F la función acumulada."
   ]
  },
  {
   "cell_type": "code",
   "execution_count": 22,
   "id": "d5dbd955-93c7-4ce1-94af-24f0f24bffaa",
   "metadata": {},
   "outputs": [
    {
     "name": "stdout",
     "output_type": "stream",
     "text": [
      "0.9999999999447843\n"
     ]
    }
   ],
   "source": [
    "f=st.chi2.cdf(chi2,10) #donde chi2 es el valor que obtubimos para el chi-cuadrado y 10 son los grados de libertad\n",
    "p=1-f\n",
    "print(p)"
   ]
  },
  {
   "cell_type": "markdown",
   "id": "858bd47f-ab1a-4dbf-9f14-0dad90891b91",
   "metadata": {},
   "source": [
    "Luego, este valor de p es mucho mayor que 0.05 por lo cual nuevamente no puedo rechazar mi hipotesis nula."
   ]
  },
  {
   "cell_type": "markdown",
   "id": "f26a3ba6-6a05-4440-ac22-f48c21359216",
   "metadata": {},
   "source": [
    "##### **E) Simule muestras de 100 observaciones de una V.A. N(μ, σ), con σ=2.5 y μ que varie entre 2 y 7. Estudie como varia el valor-p y determine si en algun rango de μ se puede “confundir” el modelo.**"
   ]
  },
  {
   "cell_type": "code",
   "execution_count": 23,
   "id": "518a08da-a351-46b2-92f0-f48e3131b766",
   "metadata": {},
   "outputs": [],
   "source": [
    "def muestra_normal(mean,sigma=2.5,n=100):\n",
    "    y=[]\n",
    "    for i in range(n):     \n",
    "        x=st.norm.rvs(loc=mean , scale= sigma) \n",
    "        y.append(x)     \n",
    "    return(y)"
   ]
  },
  {
   "cell_type": "code",
   "execution_count": 24,
   "id": "9e12a10a-af8a-4144-ace6-137efa562387",
   "metadata": {},
   "outputs": [
    {
     "data": {
      "image/png": "[encoded data removed]",
      "text/plain": [
       "<Figure size 1440x864 with 6 Axes>"
      ]
     },
     "metadata": {
      "needs_background": "light"
     },
     "output_type": "display_data"
    }
   ],
   "source": [
    "d = []\n",
    "plt.figure(figsize = (20,12))\n",
    "for i in [2,3,4,5,6,7]:\n",
    "    plt.subplot(2,3,i-1)\n",
    "    j = plt.hist(muestra_normal(i),bins=np.arange(-4.5,14.5,1), color='blue',edgecolor='white',density = True,label='Normal $ \\mu $='+str(i))\n",
    "    plt.step(x,y,where = 'mid',lw=3,c='r',label=f\"B(n={n},p={p:.1f})\")\n",
    "    plt.legend(loc='best')\n",
    "    d.append(j)\n"
   ]
  },
  {
   "cell_type": "code",
   "execution_count": 25,
   "id": "021207f9-bbb2-4abb-ba8f-52dbd6c519e6",
   "metadata": {},
   "outputs": [
    {
     "name": "stdout",
     "output_type": "stream",
     "text": [
      "El chi2 de la distribucion normal con media =2 es: 2.195168856156398 y el p es: 0.9946136023904862\n",
      "El chi2 de la distribucion normal con media =3 es: 2.2125879902792986 y el p es: 0.9944358339228944\n",
      "El chi2 de la distribucion normal con media =4 es: 1.8597933101533857 y el p es: 0.9973061359032255\n",
      "El chi2 de la distribucion normal con media =5 es: 2.086128475340849 y el p es: 0.9956363933317878\n",
      "El chi2 de la distribucion normal con media =6 es: 5.232793603998893 y el p es: 0.8750944177084161\n",
      "El chi2 de la distribucion normal con media =7 es: 28.150241644246133 y el p es: 0.0017079000150006518\n"
     ]
    }
   ],
   "source": [
    "for l in range(6):\n",
    "    chi2 = 0\n",
    "    for i in range(11):# el estadistico de prueba es la varianza \n",
    "        chi2 = chi2+(((d[l][0][i+5]-y[i])**2)/y[i])\n",
    "        f=st.chi2.cdf(chi2,10)\n",
    "        p=1-f\n",
    "    print('El chi2 de la distribucion normal con media ='+str(l+2),'es:',chi2,'y el p es:',p)"
   ]
  },
  {
   "cell_type": "markdown",
   "id": "00bd1ed8-83cf-4998-b8c8-901daac879e9",
   "metadata": {},
   "source": [
    "Con lo cual, comparando los valores obtenidos para p con $\\alpha$ podemos rechazar la hipotesis nula de los dos ultimos casos, ya que estos valores de p son menores al valor de $\\alpha$ seleccionado"
   ]
  },
  {
   "cell_type": "markdown",
   "id": "8f48a287-5808-4ef6-a32f-6fea73666a48",
   "metadata": {},
   "source": [
    "##### **F) Simule una muestra de 10000 realizaciones de una V.A. con f(x) ∼ B(n = 1000, p = 0.4) y repita el punto anterior.**"
   ]
  },
  {
   "cell_type": "code",
   "execution_count": 26,
   "id": "ffbcaae2-fdcf-4ef9-9607-c7a782703fa7",
   "metadata": {},
   "outputs": [
    {
     "data": {
      "image/png": "[encoded data removed]",
      "text/plain": [
       "<Figure size 1440x864 with 6 Axes>"
      ]
     },
     "metadata": {
      "needs_background": "light"
     },
     "output_type": "display_data"
    }
   ],
   "source": [
    "d = []\n",
    "plt.figure(figsize = (20,12))\n",
    "\n",
    "for i in [2,3,4,5,6,7]:\n",
    "    plt.subplot(2,3,i-1)\n",
    "    j = plt.hist(muestra_normal(i,n=10000),bins=np.arange(-4.5,14.5,1), color='blue',edgecolor='white',density = True,label='Normal $ \\mu $='+str(i))\n",
    "    plt.step(x,y,where = 'mid',lw=3,c='r',label=f\"B(n={n},p={p:.1f})\")\n",
    "    #plt.hist(y, bins=10,density = True,histtype = 'step',color = 'red', lw =3)\n",
    "    plt.legend(loc='best')\n",
    "    d.append(j)"
   ]
  },
  {
   "cell_type": "code",
   "execution_count": 27,
   "id": "997a1808-0bb6-4960-8373-528e8ddcd37e",
   "metadata": {},
   "outputs": [
    {
     "name": "stdout",
     "output_type": "stream",
     "text": [
      "El chi2 de la distribucion normal con media =2 es: 3.9316684521410745 y el p es: 0.9503768852934615\n",
      "El chi2 de la distribucion normal con media =3 es: 2.4999327362959662 y el p es: 0.9908767009381051\n",
      "El chi2 de la distribucion normal con media =4 es: 1.184577881322461 y el p es: 0.9996278718089301\n",
      "El chi2 de la distribucion normal con media =5 es: 1.3680351498081098 y el p es: 0.9992909201481437\n",
      "El chi2 de la distribucion normal con media =6 es: 6.1791080750955985 y el p es: 0.7999975097410652\n",
      "El chi2 de la distribucion normal con media =7 es: 25.483920069162096 y el p es: 0.004499934091625635\n"
     ]
    }
   ],
   "source": [
    "for l in range(6):\n",
    "    chi2 = 0\n",
    "    for i in range(11):# el estadistico de prueba es la varianza \n",
    "        chi2 = chi2+(((d[l][0][i+5]-y[i])**2)/y[i])\n",
    "        f=st.chi2.cdf(chi2,10)\n",
    "        p=1-f\n",
    "    print('El chi2 de la distribucion normal con media ='+str(l+2),'es:',chi2,'y el p es:',p)"
   ]
  },
  {
   "cell_type": "markdown",
   "id": "33112d36-2382-4e63-bbd3-2456eef868fe",
   "metadata": {},
   "source": [
    "Con lo cual, comparando los valores obtenidos para p con $\\alpha$ podemos rechazar la hipotesis nula del ultimo caso, ya que estos valores de p son menores al valor de $\\alpha$ seleccionado."
   ]
  },
  {
   "cell_type": "markdown",
   "id": "ee870c78-567d-4422-8184-185e150c7768",
   "metadata": {},
   "source": [
    "#### **3_ Conclusión**   "
   ]
  },
  {
   "cell_type": "markdown",
   "id": "e3688c37-998c-4f2e-a84b-79b0ad93a01b",
   "metadata": {},
   "source": [
    "En Conclusion, podemos ver como crear una muestra de datos que sigan una determinada distribucion utilizando el metodo de la tranformacion inversa, luego como podemos obtener determinados parametros apartir del uso de valiables aleatorias mediante el metodo Monte Carlo como lo hicimos en el experimento de Buffon. Luego, como asignarle un determinado intervalo de confianza a un dado estadistico mediante el remuestreo de Bootstranp y por ultimo como determinar si una dada muestra proviene de una dada distribucion mediante el test de chi-cuadrado."
   ]
  },
  {
   "cell_type": "markdown",
   "id": "1ebfa8e1-35db-4109-93ad-4f29b4712795",
   "metadata": {},
   "source": [
    "#### **4_ Bibliografía**  "
   ]
  },
  {
   "cell_type": "markdown",
   "id": "ba47e051-5ab1-4b30-84a3-255b3d747407",
   "metadata": {},
   "source": [
    "[1] Hmong; link: https://hmong.es/wiki/Generalized_extreme_value_distribution"
   ]
  },
  {
   "cell_type": "markdown",
   "id": "b98aa066-87d6-4567-b3c6-28372ae76506",
   "metadata": {},
   "source": [
    "[2] Studocu; link: https://www.studocu.com/ec/document/universidad-tecnica-de-cotopaxi/estadistica/tabla-chi-cuadrado/11975867"
   ]
  }
 ],
 "metadata": {
  "kernelspec": {
   "display_name": "Python 3 (ipykernel)",
   "language": "python",
   "name": "python3"
  },
  "language_info": {
   "codemirror_mode": {
    "name": "ipython",
    "version": 3
   },
   "file_extension": ".py",
   "mimetype": "text/x-python",
   "name": "python",
   "nbconvert_exporter": "python",
   "pygments_lexer": "ipython3",
   "version": "3.9.7"
  }
 },
 "nbformat": 4,
 "nbformat_minor": 5
}
