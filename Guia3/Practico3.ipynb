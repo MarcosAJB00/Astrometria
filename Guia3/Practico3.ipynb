{
 "cells": [
  {
   "cell_type": "markdown",
   "id": "5acfeb4d-48d3-4a2a-9c2f-284d9714a65f",
   "metadata": {},
   "source": [
    "# TERCER INFORME DE ASTROMETRIA\n",
    "#### Baracchi, Marcos. Gmail: marcos.baracchi@mi.unc.edu.ar\n",
    "\n",
    "### **1_Introducción**"
   ]
  },
  {
   "cell_type": "markdown",
   "id": "4aceaead-e63a-4b42-a948-949a91a8c655",
   "metadata": {},
   "source": [
    "Debido a que las nuevas tecnologías aportan cantidades significativas de datos, se hace imperiosa la necesidad de almacenar los mismos de manera que su acceso sea eficiente y útil. En general, la información de grandes relevamientos, simulaciones numéricas, etc. está organizada en Bases de Datos. El paradigma más utilizado para organizar bases de datos es el de Base de Datos Relacional. En este tipo de modelo la información se organiza en tablas, que se relacionan entre sí a partir de una propiedad de los datos. Cada tabla es un conjunto de registros. Existen programas o sistemas de gestión de bases de datos relacionales. Entre los más conocidos, se destacan por ejemplo MySQL, PostgreSQL, Oracle y Microsoft SQL Server.\n"
   ]
  },
  {
   "cell_type": "markdown",
   "id": "28894f33-6a13-4f27-84ba-c0d869578362",
   "metadata": {},
   "source": [
    "El **objetivo** de este trabajo es lograr una familiarización con el manejo de las bases de datos, pudiendo extraer información, procesar y analizar la misma con diferentes métodos y principios de probabilidad y estadística."
   ]
  },
  {
   "cell_type": "markdown",
   "id": "29dec23b-bbbf-47eb-8472-c49622be8208",
   "metadata": {},
   "source": [
    "### **2_Datos y Resultados**   "
   ]
  },
  {
   "cell_type": "markdown",
   "id": "8c0d3ff6-35dd-4d01-87c6-7a0c7bd54277",
   "metadata": {},
   "source": [
    "En este informe vamos a realizar el manejo de bases de datos, el procesamiento y el analisis utilizando datos de exoplanetas, extraidos de la base de datos [exoplanetes.eu](http://exoplanet.eu/catalog/). Para esto nos vamos a conectar a un servidor utilizando la tarea *pyvo*, y vamos a descargar los datos que querramos usando lenguaje SQL."
   ]
  },
  {
   "cell_type": "code",
   "execution_count": 1,
   "id": "c003c2f2-6972-4e46-ad43-edfed5ba3694",
   "metadata": {},
   "outputs": [],
   "source": [
    "import pyvo\n",
    "import pandas as pd\n",
    "import matplotlib.pyplot as plt\n",
    "import scipy.stats as sp\n",
    "import numpy as np"
   ]
  },
  {
   "cell_type": "markdown",
   "id": "751280fd-a652-4b1a-96bd-d2467b8c0f05",
   "metadata": {},
   "source": [
    "SERVIDOR: [PADC](http://voparis-tap-planeto.obspm.fr/tap),\n",
    "[Informacion de las tabas](http://voparis-tap-planeto.obspm.fr/__system__/dc_tables/list/form)."
   ]
  },
  {
   "cell_type": "code",
   "execution_count": 2,
   "id": "68ae4477-d3b0-48aa-803c-a26d836c284c",
   "metadata": {},
   "outputs": [],
   "source": [
    "service = pyvo.dal.TAPService(\"http://voparis-tap-planeto.obspm.fr/tap\") # aca me conecto al servidor "
   ]
  },
  {
   "cell_type": "markdown",
   "id": "3df299a1-6b83-4253-9fd4-02ad3373adf7",
   "metadata": {},
   "source": [
    "Aca voy a pedir que el valor de las masas $ < 15 $ masas de Jupyter, para considerar planetas y no enanas marrones. "
   ]
  },
  {
   "cell_type": "code",
   "execution_count": 3,
   "id": "146561e3-78c7-4763-bc0a-e8414e935635",
   "metadata": {},
   "outputs": [],
   "source": [
    "query = \"\"\"SELECT obs_id,granule_uid,mass,period,semi_major_axis,\n",
    "            star_spec_type,detection_type FROM exoplanet.epn_core \n",
    "            WHERE mass < 15\"\"\""
   ]
  },
  {
   "cell_type": "code",
   "execution_count": 4,
   "id": "ed7b3fba-1687-4b23-b842-7ff24fef0797",
   "metadata": {},
   "outputs": [],
   "source": [
    "results = service.search(query) #pido que me busque en el servidor el query que yo quiero"
   ]
  },
  {
   "cell_type": "code",
   "execution_count": 5,
   "id": "7e4710fb-a021-421b-adb0-a67f75e6be5c",
   "metadata": {},
   "outputs": [
    {
     "name": "stderr",
     "output_type": "stream",
     "text": [
      "WARNING: AstropyDeprecationWarning: Using the table property is deprecated. Please use se to_table() instead. [pyvo.dal.query]\n"
     ]
    },
    {
     "data": {
      "text/html": [
       "<div><i>Table length=3</i>\n",
       "<table id=\"table140615089006336\" class=\"table-striped table-bordered table-condensed\">\n",
       "<thead><tr><th>obs_id</th><th>granule_uid</th><th>mass</th><th>period</th><th>semi_major_axis</th><th>star_spec_type</th><th>detection_type</th></tr></thead>\n",
       "<thead><tr><th></th><th></th><th>jupiterMass</th><th>d</th><th>AU</th><th></th><th></th></tr></thead>\n",
       "<thead><tr><th>object</th><th>object</th><th>float64</th><th>float64</th><th>float64</th><th>object</th><th>object</th></tr></thead>\n",
       "<tr><td>77</td><td>14 Her b</td><td>9.1</td><td>1763.3</td><td>2.845</td><td>K0 V</td><td>Radial Velocity</td></tr>\n",
       "<tr><td>309</td><td>14 Her c</td><td>6.9</td><td>52596.0</td><td>27.4</td><td>K0 V</td><td>Radial Velocity</td></tr>\n",
       "<tr><td>501</td><td>1RXS 1609 b</td><td>14.0</td><td>--</td><td>330.0</td><td>K7V</td><td>Imaging</td></tr>\n",
       "</table></div>"
      ],
      "text/plain": [
       "<Table length=3>\n",
       "obs_id granule_uid     mass    ... star_spec_type  detection_type\n",
       "                   jupiterMass ...                               \n",
       "object    object     float64   ...     object          object    \n",
       "------ ----------- ----------- ... -------------- ---------------\n",
       "    77    14 Her b         9.1 ...           K0 V Radial Velocity\n",
       "   309    14 Her c         6.9 ...           K0 V Radial Velocity\n",
       "   501 1RXS 1609 b        14.0 ...            K7V         Imaging"
      ]
     },
     "execution_count": 5,
     "metadata": {},
     "output_type": "execute_result"
    }
   ],
   "source": [
    "results.table[:3] #visualizo la tabla"
   ]
  },
  {
   "cell_type": "code",
   "execution_count": 6,
   "id": "ce17d855-7773-4426-b2ae-de196df51b20",
   "metadata": {},
   "outputs": [],
   "source": [
    "table = results.to_table() #aca uso un metodo que me crea una tabla de astropy"
   ]
  },
  {
   "cell_type": "code",
   "execution_count": 7,
   "id": "c8ea152c-cb08-4a50-89c1-6f7e1c9d04f1",
   "metadata": {},
   "outputs": [],
   "source": [
    "df = table.to_pandas() # aca llevo la tabla de astropy a un DataFrame de pandas\n",
    "#df"
   ]
  },
  {
   "cell_type": "code",
   "execution_count": 8,
   "id": "1559bb0a-66ad-4b66-bdaf-11e47d167cbe",
   "metadata": {},
   "outputs": [
    {
     "data": {
      "text/html": [
       "<div>\n",
       "<style scoped>\n",
       "    .dataframe tbody tr th:only-of-type {\n",
       "        vertical-align: middle;\n",
       "    }\n",
       "\n",
       "    .dataframe tbody tr th {\n",
       "        vertical-align: top;\n",
       "    }\n",
       "\n",
       "    .dataframe thead th {\n",
       "        text-align: right;\n",
       "    }\n",
       "</style>\n",
       "<table border=\"1\" class=\"dataframe\">\n",
       "  <thead>\n",
       "    <tr style=\"text-align: right;\">\n",
       "      <th></th>\n",
       "      <th>obs_id</th>\n",
       "      <th>mass</th>\n",
       "      <th>period</th>\n",
       "      <th>semi_major_axis</th>\n",
       "      <th>star_spec_type</th>\n",
       "      <th>detection_type</th>\n",
       "    </tr>\n",
       "    <tr>\n",
       "      <th>granule_uid</th>\n",
       "      <th></th>\n",
       "      <th></th>\n",
       "      <th></th>\n",
       "      <th></th>\n",
       "      <th></th>\n",
       "      <th></th>\n",
       "    </tr>\n",
       "  </thead>\n",
       "  <tbody>\n",
       "    <tr>\n",
       "      <th>14 Her b</th>\n",
       "      <td>77</td>\n",
       "      <td>9.10000</td>\n",
       "      <td>1763.300000</td>\n",
       "      <td>2.84500</td>\n",
       "      <td>K0 V</td>\n",
       "      <td>Radial Velocity</td>\n",
       "    </tr>\n",
       "    <tr>\n",
       "      <th>14 Her c</th>\n",
       "      <td>309</td>\n",
       "      <td>6.90000</td>\n",
       "      <td>52596.000000</td>\n",
       "      <td>27.40000</td>\n",
       "      <td>K0 V</td>\n",
       "      <td>Radial Velocity</td>\n",
       "    </tr>\n",
       "    <tr>\n",
       "      <th>1RXS 1609 b</th>\n",
       "      <td>501</td>\n",
       "      <td>14.00000</td>\n",
       "      <td>NaN</td>\n",
       "      <td>330.00000</td>\n",
       "      <td>K7V</td>\n",
       "      <td>Imaging</td>\n",
       "    </tr>\n",
       "    <tr>\n",
       "      <th>2M 0103-55 (AB) b</th>\n",
       "      <td>1321</td>\n",
       "      <td>13.00000</td>\n",
       "      <td>NaN</td>\n",
       "      <td>84.00000</td>\n",
       "      <td>M</td>\n",
       "      <td>Imaging</td>\n",
       "    </tr>\n",
       "    <tr>\n",
       "      <th>2M 0219-39 b</th>\n",
       "      <td>2400</td>\n",
       "      <td>13.90000</td>\n",
       "      <td>NaN</td>\n",
       "      <td>156.00000</td>\n",
       "      <td>M6</td>\n",
       "      <td>Imaging</td>\n",
       "    </tr>\n",
       "    <tr>\n",
       "      <th>...</th>\n",
       "      <td>...</td>\n",
       "      <td>...</td>\n",
       "      <td>...</td>\n",
       "      <td>...</td>\n",
       "      <td>...</td>\n",
       "      <td>...</td>\n",
       "    </tr>\n",
       "    <tr>\n",
       "      <th>pi Men b</th>\n",
       "      <td>83</td>\n",
       "      <td>12.60000</td>\n",
       "      <td>2088.330000</td>\n",
       "      <td>3.30800</td>\n",
       "      <td>G0V</td>\n",
       "      <td>Radial Velocity</td>\n",
       "    </tr>\n",
       "    <tr>\n",
       "      <th>pi Men c</th>\n",
       "      <td>6825</td>\n",
       "      <td>0.01142</td>\n",
       "      <td>6.267852</td>\n",
       "      <td>0.06702</td>\n",
       "      <td>G0V</td>\n",
       "      <td>Primary Transit</td>\n",
       "    </tr>\n",
       "    <tr>\n",
       "      <th>tau Boo A b</th>\n",
       "      <td>7</td>\n",
       "      <td>5.84000</td>\n",
       "      <td>3.312490</td>\n",
       "      <td>0.04600</td>\n",
       "      <td>F7 V</td>\n",
       "      <td>Radial Velocity</td>\n",
       "    </tr>\n",
       "    <tr>\n",
       "      <th>ups And b</th>\n",
       "      <td>13</td>\n",
       "      <td>0.62000</td>\n",
       "      <td>4.617110</td>\n",
       "      <td>0.05900</td>\n",
       "      <td>F8 V</td>\n",
       "      <td>Radial Velocity</td>\n",
       "    </tr>\n",
       "    <tr>\n",
       "      <th>ups And c</th>\n",
       "      <td>14</td>\n",
       "      <td>9.10000</td>\n",
       "      <td>240.937000</td>\n",
       "      <td>0.86100</td>\n",
       "      <td>F8 V</td>\n",
       "      <td>Radial Velocity</td>\n",
       "    </tr>\n",
       "  </tbody>\n",
       "</table>\n",
       "<p>1533 rows × 6 columns</p>\n",
       "</div>"
      ],
      "text/plain": [
       "                  obs_id      mass        period  semi_major_axis  \\\n",
       "granule_uid                                                         \n",
       "14 Her b              77   9.10000   1763.300000          2.84500   \n",
       "14 Her c             309   6.90000  52596.000000         27.40000   \n",
       "1RXS 1609 b          501  14.00000           NaN        330.00000   \n",
       "2M 0103-55 (AB) b   1321  13.00000           NaN         84.00000   \n",
       "2M 0219-39 b        2400  13.90000           NaN        156.00000   \n",
       "...                  ...       ...           ...              ...   \n",
       "pi Men b              83  12.60000   2088.330000          3.30800   \n",
       "pi Men c            6825   0.01142      6.267852          0.06702   \n",
       "tau Boo A b            7   5.84000      3.312490          0.04600   \n",
       "ups And b             13   0.62000      4.617110          0.05900   \n",
       "ups And c             14   9.10000    240.937000          0.86100   \n",
       "\n",
       "                  star_spec_type   detection_type  \n",
       "granule_uid                                        \n",
       "14 Her b                    K0 V  Radial Velocity  \n",
       "14 Her c                    K0 V  Radial Velocity  \n",
       "1RXS 1609 b                  K7V          Imaging  \n",
       "2M 0103-55 (AB) b              M          Imaging  \n",
       "2M 0219-39 b                  M6          Imaging  \n",
       "...                          ...              ...  \n",
       "pi Men b                     G0V  Radial Velocity  \n",
       "pi Men c                     G0V  Primary Transit  \n",
       "tau Boo A b                 F7 V  Radial Velocity  \n",
       "ups And b                   F8 V  Radial Velocity  \n",
       "ups And c                   F8 V  Radial Velocity  \n",
       "\n",
       "[1533 rows x 6 columns]"
      ]
     },
     "execution_count": 8,
     "metadata": {},
     "output_type": "execute_result"
    }
   ],
   "source": [
    "df.set_index('granule_uid',inplace = True) #estoy reemplazando el indice por el nombre del planeta\n",
    "df "
   ]
  },
  {
   "cell_type": "code",
   "execution_count": 9,
   "id": "8fcadc95-d6bc-498d-bcd3-76db166bb120",
   "metadata": {},
   "outputs": [],
   "source": [
    "df.to_csv('datos.csv') #aca guardamos la tabla"
   ]
  },
  {
   "cell_type": "markdown",
   "id": "98250bcd-2d6f-4286-bf27-b47d9f2c3e95",
   "metadata": {},
   "source": [
    "#### **2.1_Ejercicio 6**   "
   ]
  },
  {
   "cell_type": "markdown",
   "id": "d7742257-3cc8-461d-8dfa-edb7878c581d",
   "metadata": {},
   "source": [
    "Vamos a estudiar la distribucion de indices de masas y periodos orbitales para planetas descubiertos con diferentes\n",
    "tecnicas observacionales y determine si existe un sesgo en las propiedades de los exoplanetas en funcion del tipo de\n",
    "tecnica utilizada."
   ]
  },
  {
   "cell_type": "markdown",
   "id": "89d2502f-aeaa-43ca-8ae2-2cff611df418",
   "metadata": {},
   "source": [
    "Vamos a crear sub tablas de la tabla original **df** de cada uno de los tipod de deteccion."
   ]
  },
  {
   "cell_type": "code",
   "execution_count": 10,
   "id": "f5c366dc-98b0-4a0a-92f3-936839fcb966",
   "metadata": {},
   "outputs": [
    {
     "data": {
      "text/html": [
       "<div>\n",
       "<style scoped>\n",
       "    .dataframe tbody tr th:only-of-type {\n",
       "        vertical-align: middle;\n",
       "    }\n",
       "\n",
       "    .dataframe tbody tr th {\n",
       "        vertical-align: top;\n",
       "    }\n",
       "\n",
       "    .dataframe thead th {\n",
       "        text-align: right;\n",
       "    }\n",
       "</style>\n",
       "<table border=\"1\" class=\"dataframe\">\n",
       "  <thead>\n",
       "    <tr style=\"text-align: right;\">\n",
       "      <th></th>\n",
       "      <th>obs_id</th>\n",
       "      <th>mass</th>\n",
       "      <th>period</th>\n",
       "      <th>semi_major_axis</th>\n",
       "      <th>star_spec_type</th>\n",
       "      <th>detection_type</th>\n",
       "    </tr>\n",
       "    <tr>\n",
       "      <th>granule_uid</th>\n",
       "      <th></th>\n",
       "      <th></th>\n",
       "      <th></th>\n",
       "      <th></th>\n",
       "      <th></th>\n",
       "      <th></th>\n",
       "    </tr>\n",
       "  </thead>\n",
       "  <tbody>\n",
       "    <tr>\n",
       "      <th>14 Her b</th>\n",
       "      <td>77</td>\n",
       "      <td>9.10000</td>\n",
       "      <td>1763.30000</td>\n",
       "      <td>2.84500</td>\n",
       "      <td>K0 V</td>\n",
       "      <td>Radial Velocity</td>\n",
       "    </tr>\n",
       "    <tr>\n",
       "      <th>14 Her c</th>\n",
       "      <td>309</td>\n",
       "      <td>6.90000</td>\n",
       "      <td>52596.00000</td>\n",
       "      <td>27.40000</td>\n",
       "      <td>K0 V</td>\n",
       "      <td>Radial Velocity</td>\n",
       "    </tr>\n",
       "    <tr>\n",
       "      <th>55 Cnc b</th>\n",
       "      <td>25</td>\n",
       "      <td>0.84000</td>\n",
       "      <td>14.65314</td>\n",
       "      <td>0.11339</td>\n",
       "      <td>K0IV-V</td>\n",
       "      <td>Radial Velocity</td>\n",
       "    </tr>\n",
       "    <tr>\n",
       "      <th>51 Peg b</th>\n",
       "      <td>12</td>\n",
       "      <td>0.47000</td>\n",
       "      <td>4.23080</td>\n",
       "      <td>0.05200</td>\n",
       "      <td>G2 IV</td>\n",
       "      <td>Radial Velocity</td>\n",
       "    </tr>\n",
       "    <tr>\n",
       "      <th>CD Cet b</th>\n",
       "      <td>7415</td>\n",
       "      <td>0.01244</td>\n",
       "      <td>2.29070</td>\n",
       "      <td>0.01850</td>\n",
       "      <td>M5.0</td>\n",
       "      <td>Radial Velocity</td>\n",
       "    </tr>\n",
       "  </tbody>\n",
       "</table>\n",
       "</div>"
      ],
      "text/plain": [
       "            obs_id     mass       period  semi_major_axis star_spec_type  \\\n",
       "granule_uid                                                                \n",
       "14 Her b        77  9.10000   1763.30000          2.84500           K0 V   \n",
       "14 Her c       309  6.90000  52596.00000         27.40000           K0 V   \n",
       "55 Cnc b        25  0.84000     14.65314          0.11339         K0IV-V   \n",
       "51 Peg b        12  0.47000      4.23080          0.05200          G2 IV   \n",
       "CD Cet b      7415  0.01244      2.29070          0.01850           M5.0   \n",
       "\n",
       "              detection_type  \n",
       "granule_uid                   \n",
       "14 Her b     Radial Velocity  \n",
       "14 Her c     Radial Velocity  \n",
       "55 Cnc b     Radial Velocity  \n",
       "51 Peg b     Radial Velocity  \n",
       "CD Cet b     Radial Velocity  "
      ]
     },
     "execution_count": 10,
     "metadata": {},
     "output_type": "execute_result"
    }
   ],
   "source": [
    "RV = df.loc[:, 'detection_type'] == 'Radial Velocity' # condicion \n",
    "df_RV = df.loc[RV]\n",
    "df_RV.head()"
   ]
  },
  {
   "cell_type": "code",
   "execution_count": 11,
   "id": "79682c68-f913-4b36-ac8e-99bf5f3244b7",
   "metadata": {},
   "outputs": [],
   "source": [
    "TRAN = df.loc[:, 'detection_type'] == 'Primary Transit'\n",
    "df_TRAN = df.loc[TRAN]\n",
    "IMA = df.loc[:, 'detection_type'] == 'Imaging'\n",
    "df_IMA = df.loc[IMA]\n",
    "Astrom = df.loc[:, 'detection_type'] == 'Astrometry'\n",
    "df_Astrom = df.loc[Astrom]\n",
    "ML = df.loc[:, 'detection_type'] == 'Microlensing'\n",
    "df_ML = df.loc[ML]\n",
    "Pulsar= df.loc[:, 'detection_type'] == 'Pulsar'\n",
    "df_Pulsar = df.loc[Pulsar]\n",
    "TTV = df.loc[:, 'detection_type'] == 'TTV'\n",
    "df_TTV = df.loc[TTV]\n",
    "Other = df.loc[:, 'detection_type'] == 'Other'\n",
    "df_Other = df.loc[Other]"
   ]
  },
  {
   "cell_type": "markdown",
   "id": "930eac7e-c541-4b91-b6bd-22331f44c434",
   "metadata": {},
   "source": [
    "Primero vamos a hacer un grafico comparando los poridos contras las masas para cada una de las tecnicas."
   ]
  },
  {
   "cell_type": "code",
   "execution_count": 12,
   "id": "b7242709-9711-43c5-8109-2dff75167a86",
   "metadata": {},
   "outputs": [
    {
     "data": {
      "image/png": "[encoded data removed]",
      "text/plain": [
       "<Figure size 1008x576 with 1 Axes>"
      ]
     },
     "metadata": {
      "needs_background": "light"
     },
     "output_type": "display_data"
    }
   ],
   "source": [
    "plt.figure(figsize=(14, 8))\n",
    "plt.plot(df_RV['mass'],df_RV['period'],'D',label = 'RV')\n",
    "plt.plot(df_TRAN['mass'],df_TRAN['period'],'o',label = 'Transito',alpha = 0.7,ms=5)\n",
    "plt.plot(df_IMA['mass'],df_IMA['period'],'v',label = 'Imagen')\n",
    "plt.plot(df_Astrom['mass'],df_Astrom['period'],'*',label = 'Astrometria')\n",
    "plt.plot(df_ML['mass'],df_ML['period'],'s',label = 'Microlentes')\n",
    "plt.plot(df_Pulsar['mass'],df_Pulsar['period'],'p',label = 'Pulsar')\n",
    "plt.plot(df_TTV['mass'],df_TTV['period'],'H',label = 'TTV')\n",
    "plt.plot(df_Other['mass'],df_Other['period'],'+',label = 'Otras')\n",
    "plt.yscale('log')\n",
    "plt.title('Masa vs periodo', fontsize=20)\n",
    "plt.xlabel('Masa [MJup]', fontsize=20)\n",
    "plt.ylabel('Periodo [d]', fontsize=20);\n",
    "plt.legend(fontsize=12, loc='best')\n",
    "plt.show()"
   ]
  },
  {
   "cell_type": "markdown",
   "id": "f0e9fda5-7f60-40cb-99d9-5bd713cdf5f5",
   "metadata": {},
   "source": [
    "Y ahora, vamos a ver las distibuciones de masas y periodos para cada una de las tecnicas"
   ]
  },
  {
   "cell_type": "code",
   "execution_count": 13,
   "id": "6d62555d-49e3-4499-b3f8-466bbb6ccbea",
   "metadata": {},
   "outputs": [
    {
     "data": {
      "image/png": "[encoded data removed]",
      "text/plain": [
       "<Figure size 720x504 with 1 Axes>"
      ]
     },
     "metadata": {
      "needs_background": "light"
     },
     "output_type": "display_data"
    }
   ],
   "source": [
    "plt.figure(figsize=(10, 7))\n",
    "plt.hist(df_RV['mass'],bins = 'auto',density = True,histtype ='step', label = 'RV',lw = 2)\n",
    "plt.hist(df_TRAN['mass'],bins = 'auto',density = True,histtype ='step', label = 'Transito',lw = 2)\n",
    "plt.hist(df_IMA['mass'],bins = 'auto',density = True,histtype ='step', label = 'Imagen',lw =2)\n",
    "plt.hist(df_Astrom['mass'],bins = 'auto',density = True,histtype ='step', label = 'Astrometria',lw = 2)\n",
    "plt.hist(df_ML['mass'],bins = 'auto',density = True,histtype ='step', label = 'Microlentes', lw = 2)\n",
    "plt.hist(df_Pulsar['mass'],bins = 'auto',density = True,histtype ='step', label = 'Pulsar', lw = 2)\n",
    "plt.hist(df_TTV['mass'],bins = 'auto',density = True,histtype ='step', label = 'TTV',lw = 2)\n",
    "plt.hist(df_Other['mass'],bins = 'auto',density = True,histtype ='step',label = 'Otros',lw = 2)\n",
    "plt.legend(fontsize=12, loc='best')\n",
    "plt.title('Distibucion de masas para las distintas tecnicas de deteccion', fontsize=15)\n",
    "plt.xlabel('Masa [MJup]', fontsize=14)\n",
    "plt.ylabel('Frecuencia', fontsize=14)\n",
    "plt.show()"
   ]
  },
  {
   "cell_type": "code",
   "execution_count": 14,
   "id": "489b525e-c7fd-49c3-8943-6b1c1b6cf0ea",
   "metadata": {},
   "outputs": [
    {
     "data": {
      "image/png": "[encoded data removed]",
      "text/plain": [
       "<Figure size 720x504 with 1 Axes>"
      ]
     },
     "metadata": {
      "needs_background": "light"
     },
     "output_type": "display_data"
    }
   ],
   "source": [
    "plt.figure(figsize=(10, 7))\n",
    "plt.hist(np.log(df_RV['period']),bins = 'auto',density = True,histtype ='step', label = 'RV',lw = 2)\n",
    "plt.hist(np.log(df_TRAN['period']),bins = 'auto',density = True,histtype ='step', label = 'Transito',lw = 2)\n",
    "plt.hist(np.log(df_IMA['period']),bins = 'auto',density = True,histtype ='step', label = 'Imagen',lw =2)\n",
    "plt.hist(np.log(df_Astrom['period']),bins = 'auto',density = True,histtype ='step', label = 'Astrometria',lw = 2)\n",
    "plt.hist(np.log(df_ML['period']),bins = 'auto',density = True,histtype ='step', label = 'Microlentes', lw = 2)\n",
    "plt.hist(np.log(df_Pulsar['period']),bins = 'auto',density = True,histtype ='step', label = 'Pulsar', lw = 2)\n",
    "plt.hist(np.log(df_TTV['period']),bins = 'auto',density = True,histtype ='step', label = 'TTV',lw = 2)\n",
    "plt.hist(np.log(df_Other['period']),bins = 'auto',density = True,histtype ='step',label = 'Otros',lw = 2)\n",
    "plt.legend(fontsize=12, loc='best')\n",
    "plt.title('Distibucion de periodos para las distintas tecnicas de deteccion', fontsize=15)\n",
    "plt.xlabel('Periodos [Dias]', fontsize=14)\n",
    "plt.ylabel('Frecuencia', fontsize=14)\n",
    "plt.show()"
   ]
  },
  {
   "cell_type": "markdown",
   "id": "93893caa-9f94-44f6-afb6-1ae2cfcfc241",
   "metadata": {},
   "source": [
    "En los ultimos dos graficos podemos ver que **todas las tecnicas presentan sesgos**, en direferntes rangos tanto de masa como de periodo, ya que sino tendriamos que observar una distribucion similar tanto de masas como de periodo para todas las tecnicas de observacion."
   ]
  },
  {
   "cell_type": "markdown",
   "id": "3e902df5-36eb-462d-b238-809a6ca446bf",
   "metadata": {},
   "source": [
    "#### **2.2 Ejercicio 7**"
   ]
  },
  {
   "cell_type": "markdown",
   "id": "62b4cebe-27d5-4523-a9b8-babe5fcbdb27",
   "metadata": {},
   "source": [
    "Ahora, vamos a estudiar la distribucion de distancias a las estrellas con exoplanetas y determinar si la misma es consistente\n",
    "con una distribucion gaussiana. Para lo cual vamos a descargar los datos de la distancia y los vamos a unir con la tabla anterior."
   ]
  },
  {
   "cell_type": "code",
   "execution_count": 15,
   "id": "79343f15-f83e-4521-b7b2-c132d5bade03",
   "metadata": {},
   "outputs": [],
   "source": [
    "query7 = \"SELECT granule_uid,star_distance FROM exoplanet.epn_core WHERE mass < 15\"\n",
    "results7 = service.search(query7)"
   ]
  },
  {
   "cell_type": "code",
   "execution_count": 16,
   "id": "02e2ddde-1798-4fa7-a086-ac2b0c96c612",
   "metadata": {},
   "outputs": [
    {
     "data": {
      "text/html": [
       "<div>\n",
       "<style scoped>\n",
       "    .dataframe tbody tr th:only-of-type {\n",
       "        vertical-align: middle;\n",
       "    }\n",
       "\n",
       "    .dataframe tbody tr th {\n",
       "        vertical-align: top;\n",
       "    }\n",
       "\n",
       "    .dataframe thead th {\n",
       "        text-align: right;\n",
       "    }\n",
       "</style>\n",
       "<table border=\"1\" class=\"dataframe\">\n",
       "  <thead>\n",
       "    <tr style=\"text-align: right;\">\n",
       "      <th></th>\n",
       "      <th>star_distance</th>\n",
       "    </tr>\n",
       "    <tr>\n",
       "      <th>granule_uid</th>\n",
       "      <th></th>\n",
       "    </tr>\n",
       "  </thead>\n",
       "  <tbody>\n",
       "    <tr>\n",
       "      <th>14 Her b</th>\n",
       "      <td>18.1</td>\n",
       "    </tr>\n",
       "    <tr>\n",
       "      <th>14 Her c</th>\n",
       "      <td>18.1</td>\n",
       "    </tr>\n",
       "    <tr>\n",
       "      <th>1RXS 1609 b</th>\n",
       "      <td>145.0</td>\n",
       "    </tr>\n",
       "    <tr>\n",
       "      <th>2M 0103-55 (AB) b</th>\n",
       "      <td>47.2</td>\n",
       "    </tr>\n",
       "    <tr>\n",
       "      <th>2M 0219-39 b</th>\n",
       "      <td>39.4</td>\n",
       "    </tr>\n",
       "  </tbody>\n",
       "</table>\n",
       "</div>"
      ],
      "text/plain": [
       "                   star_distance\n",
       "granule_uid                     \n",
       "14 Her b                    18.1\n",
       "14 Her c                    18.1\n",
       "1RXS 1609 b                145.0\n",
       "2M 0103-55 (AB) b           47.2\n",
       "2M 0219-39 b                39.4"
      ]
     },
     "execution_count": 16,
     "metadata": {},
     "output_type": "execute_result"
    }
   ],
   "source": [
    "table7 = results7.to_table()\n",
    "df7 = table7.to_pandas()\n",
    "df7.set_index('granule_uid',inplace = True)\n",
    "df7.head()"
   ]
  },
  {
   "cell_type": "code",
   "execution_count": 25,
   "id": "fb9e100b-4d1d-40b0-b204-d2c4970f3dc7",
   "metadata": {},
   "outputs": [],
   "source": [
    "#pd.merge?"
   ]
  },
  {
   "cell_type": "code",
   "execution_count": 17,
   "id": "d3dcf17a-b90c-412a-a02e-bf105d208c4e",
   "metadata": {},
   "outputs": [
    {
     "data": {
      "text/html": [
       "<div>\n",
       "<style scoped>\n",
       "    .dataframe tbody tr th:only-of-type {\n",
       "        vertical-align: middle;\n",
       "    }\n",
       "\n",
       "    .dataframe tbody tr th {\n",
       "        vertical-align: top;\n",
       "    }\n",
       "\n",
       "    .dataframe thead th {\n",
       "        text-align: right;\n",
       "    }\n",
       "</style>\n",
       "<table border=\"1\" class=\"dataframe\">\n",
       "  <thead>\n",
       "    <tr style=\"text-align: right;\">\n",
       "      <th></th>\n",
       "      <th>obs_id</th>\n",
       "      <th>mass</th>\n",
       "      <th>period</th>\n",
       "      <th>semi_major_axis</th>\n",
       "      <th>star_spec_type</th>\n",
       "      <th>detection_type</th>\n",
       "      <th>star_distance</th>\n",
       "    </tr>\n",
       "    <tr>\n",
       "      <th>granule_uid</th>\n",
       "      <th></th>\n",
       "      <th></th>\n",
       "      <th></th>\n",
       "      <th></th>\n",
       "      <th></th>\n",
       "      <th></th>\n",
       "      <th></th>\n",
       "    </tr>\n",
       "  </thead>\n",
       "  <tbody>\n",
       "    <tr>\n",
       "      <th>14 Her b</th>\n",
       "      <td>77</td>\n",
       "      <td>9.1</td>\n",
       "      <td>1763.3</td>\n",
       "      <td>2.845</td>\n",
       "      <td>K0 V</td>\n",
       "      <td>Radial Velocity</td>\n",
       "      <td>18.1</td>\n",
       "    </tr>\n",
       "    <tr>\n",
       "      <th>14 Her c</th>\n",
       "      <td>309</td>\n",
       "      <td>6.9</td>\n",
       "      <td>52596.0</td>\n",
       "      <td>27.400</td>\n",
       "      <td>K0 V</td>\n",
       "      <td>Radial Velocity</td>\n",
       "      <td>18.1</td>\n",
       "    </tr>\n",
       "    <tr>\n",
       "      <th>1RXS 1609 b</th>\n",
       "      <td>501</td>\n",
       "      <td>14.0</td>\n",
       "      <td>NaN</td>\n",
       "      <td>330.000</td>\n",
       "      <td>K7V</td>\n",
       "      <td>Imaging</td>\n",
       "      <td>145.0</td>\n",
       "    </tr>\n",
       "    <tr>\n",
       "      <th>2M 0103-55 (AB) b</th>\n",
       "      <td>1321</td>\n",
       "      <td>13.0</td>\n",
       "      <td>NaN</td>\n",
       "      <td>84.000</td>\n",
       "      <td>M</td>\n",
       "      <td>Imaging</td>\n",
       "      <td>47.2</td>\n",
       "    </tr>\n",
       "    <tr>\n",
       "      <th>2M 0219-39 b</th>\n",
       "      <td>2400</td>\n",
       "      <td>13.9</td>\n",
       "      <td>NaN</td>\n",
       "      <td>156.000</td>\n",
       "      <td>M6</td>\n",
       "      <td>Imaging</td>\n",
       "      <td>39.4</td>\n",
       "    </tr>\n",
       "  </tbody>\n",
       "</table>\n",
       "</div>"
      ],
      "text/plain": [
       "                  obs_id  mass   period  semi_major_axis star_spec_type  \\\n",
       "granule_uid                                                               \n",
       "14 Her b              77   9.1   1763.3            2.845           K0 V   \n",
       "14 Her c             309   6.9  52596.0           27.400           K0 V   \n",
       "1RXS 1609 b          501  14.0      NaN          330.000            K7V   \n",
       "2M 0103-55 (AB) b   1321  13.0      NaN           84.000              M   \n",
       "2M 0219-39 b        2400  13.9      NaN          156.000             M6   \n",
       "\n",
       "                    detection_type  star_distance  \n",
       "granule_uid                                        \n",
       "14 Her b           Radial Velocity           18.1  \n",
       "14 Her c           Radial Velocity           18.1  \n",
       "1RXS 1609 b                Imaging          145.0  \n",
       "2M 0103-55 (AB) b          Imaging           47.2  \n",
       "2M 0219-39 b               Imaging           39.4  "
      ]
     },
     "execution_count": 17,
     "metadata": {},
     "output_type": "execute_result"
    }
   ],
   "source": [
    "DF = pd.merge(left = df,right=  df7,how ='inner',on ='granule_uid') # aca unimos las 2 tablas y la renumbramos como DF\n",
    "DF.head()"
   ]
  },
  {
   "cell_type": "code",
   "execution_count": 23,
   "id": "49203caa-f024-4ef1-b320-ffb56cbce4d5",
   "metadata": {},
   "outputs": [
    {
     "data": {
      "image/png": "[encoded data removed]",
      "text/plain": [
       "<Figure size 576x360 with 1 Axes>"
      ]
     },
     "metadata": {
      "needs_background": "light"
     },
     "output_type": "display_data"
    }
   ],
   "source": [
    "plt.figure(figsize=(8, 5))\n",
    "plt.hist(DF['semi_major_axis'],range=[0,2],edgecolor = 'black',bins='auto',density = True)\n",
    "plt.title('Distancia estrella-planeta',fontsize=15)\n",
    "plt.xlabel(\"Semieje mayor[AU]\",fontsize=14);plt.ylabel(\"Frecuencia\",fontsize=14)\n",
    "plt.show()"
   ]
  },
  {
   "cell_type": "markdown",
   "id": "1a81cd90-54bb-44d7-8286-6ccb0a13106c",
   "metadata": {},
   "source": [
    "Y para ver si esta distribucion es consistente con una distribucion gaussiana vamos a utilizar la **Prueba de Kolmogórov-Smirnov**. De la cual vamos a obtener el *p-value* y vamos a ver si este es mayor a algun nivel de significancia dado, lo cual nos diria que no podriamos rechazar la hipotesis nula de que esta distribucion sea consistente con una distribucion gaussiana."
   ]
  },
  {
   "cell_type": "code",
   "execution_count": 20,
   "id": "3c74423d-3850-4c54-97fc-86c773dac08b",
   "metadata": {},
   "outputs": [],
   "source": [
    "au = DF['semi_major_axis'][(DF['semi_major_axis']>0) & (DF['semi_major_axis']<=2)]"
   ]
  },
  {
   "cell_type": "code",
   "execution_count": 21,
   "id": "b4373c83-ef67-4dab-8b8f-fb0d1b3aef6e",
   "metadata": {},
   "outputs": [
    {
     "data": {
      "text/plain": [
       "KstestResult(statistic=0.5017553403698662, pvalue=8.900347328192646e-270)"
      ]
     },
     "execution_count": 21,
     "metadata": {},
     "output_type": "execute_result"
    }
   ],
   "source": [
    "sp.kstest(au,'norm')"
   ]
  },
  {
   "cell_type": "markdown",
   "id": "c75e0faf-e854-47ec-b97f-9dd577dccf3b",
   "metadata": {},
   "source": [
    "Aca podemos ver que no importa el nivel de significancia $ \\alpha $ que tomemos, el valor de p va a ser menor. Por lo tanto, **se rechaza la hipostesis nula**."
   ]
  },
  {
   "cell_type": "markdown",
   "id": "6c84ebda-ce0a-4216-9067-2bec80b92870",
   "metadata": {},
   "source": [
    "#### **2.2 Ejercicio 8**"
   ]
  },
  {
   "cell_type": "markdown",
   "id": "3768c242-c0cc-417e-b8bd-e084bdd40c88",
   "metadata": {},
   "source": [
    "Ahora, vamos a realizar un grafico de las masas y los radios de los planetas, proponer un modelo y realizar  un ajuste de ese\n",
    "modelo. Y por ultimo vamos a discutir el procedimiento para el ajuste del modelo."
   ]
  },
  {
   "cell_type": "markdown",
   "id": "75b1a353-9121-407c-a438-a10ad02a1df2",
   "metadata": {},
   "source": [
    "Para lo cual vamos a descargar nuevamente del servidor los datos de los radios y los vamos a unir con la tabla anterior."
   ]
  },
  {
   "cell_type": "code",
   "execution_count": null,
   "id": "7d995d47-9646-4819-832d-90cb00b72760",
   "metadata": {},
   "outputs": [],
   "source": [
    "query8 = \"SELECT granule_uid,radius FROM exoplanet.epn_core WHERE mass < 15\"\n",
    "results8 = service.search(query8)\n",
    "table8 = results8.to_table()\n",
    "df8 = table8.to_pandas()\n",
    "df8.set_index('granule_uid',inplace = True)"
   ]
  },
  {
   "cell_type": "code",
   "execution_count": null,
   "id": "261ba19f-d335-446e-865c-f9dfafe4aa48",
   "metadata": {},
   "outputs": [],
   "source": [
    "DF8 = pd.merge(left = DF,right=  df8,how ='inner',on ='granule_uid')\n",
    "DF8.head()"
   ]
  },
  {
   "cell_type": "code",
   "execution_count": null,
   "id": "0c404c06-23ce-4c84-be31-9c3fb9dea99a",
   "metadata": {
    "tags": []
   },
   "outputs": [],
   "source": [
    "DF8.to_csv('datos_finales.csv') # guardamos la tabla final "
   ]
  },
  {
   "cell_type": "code",
   "execution_count": null,
   "id": "4cb91952-6a12-4a71-bf47-ac467bda44dd",
   "metadata": {},
   "outputs": [],
   "source": [
    "plt.figure(figsize=(8, 5))\n",
    "plt.plot(DF8['mass'],DF8['radius'],'o',ms=3)\n",
    "plt.xscale('log')\n",
    "plt.yscale('log')\n",
    "plt.title('Masas vs Radios',fontsize=15)\n",
    "plt.xlabel(\"Masa[Mjup]\",fontsize=14);plt.ylabel(\"Radio[Rjup]\",fontsize=14)\n",
    "plt.show()"
   ]
  },
  {
   "cell_type": "markdown",
   "id": "9739b89a-0780-4d8a-8962-b9d45e935e5b",
   "metadata": {},
   "source": [
    "Podemos ver apartir del grafico que podemos realizar un ajuste lineal a los datos utilizando la tarea *polyfit*, con la cual obtendremos los parametros del ajuste. Para ello, primero vamos a igualar la longitud de las tablas para lo cual las vamos a unir previamente habiendo sacado los valores que se encuentran en *NaN*, para que el ajuste no presente errores."
   ]
  },
  {
   "cell_type": "code",
   "execution_count": null,
   "id": "2e0430c2-b754-4ecf-9562-ede9f18a4503",
   "metadata": {},
   "outputs": [],
   "source": [
    "x = DF8['mass'][~DF8['mass'].isna()]\n",
    "y = DF8['radius'][~DF8['radius'].isna()]\n",
    "DF8_1 = pd.merge(left = x,right= y,how ='inner',on ='granule_uid')\n",
    "DF8_1.head()"
   ]
  },
  {
   "cell_type": "code",
   "execution_count": null,
   "id": "8158c34e-703c-4d62-9012-ed06a0b9c440",
   "metadata": {},
   "outputs": [],
   "source": [
    "ajuste = np.polyfit(np.log(DF8_1['mass']),np.log(DF8_1['radius']),1) \n",
    "ajuste"
   ]
  },
  {
   "cell_type": "markdown",
   "id": "d7dccb20-8775-49b5-bfe8-2fc397fd37b4",
   "metadata": {},
   "source": [
    "Estos son los correspondientes valores de la pendiente y la ordenada al origen respectivamente."
   ]
  },
  {
   "cell_type": "code",
   "execution_count": null,
   "id": "465f37db-a07f-43b8-8a06-345c67a05267",
   "metadata": {},
   "outputs": [],
   "source": [
    "plt.figure(figsize=(8, 5))\n",
    "plt.plot(np.log(DF8['mass']),np.log(DF8['radius']),'o',ms=3)\n",
    "plt.title('Masas vs Radios',fontsize=15)\n",
    "plt.xlabel(\"Masa[Mjup]\",fontsize=14);plt.ylabel(\"Radio[Rjup]\",fontsize=14)\n",
    "t = np.linspace(-9,3,50)\n",
    "plt.plot(t, ajuste[0]*t+ajuste[1],color = 'r')\n",
    "plt.grid()"
   ]
  },
  {
   "cell_type": "markdown",
   "id": "a1fa86a5-e893-4b86-b931-0244b2bd413d",
   "metadata": {},
   "source": [
    "Con este ajuste, al estar los datos graficados en escala logaritmica conseguimos la siguiente relacion ente la masa y el radio: "
   ]
  },
  {
   "cell_type": "markdown",
   "id": "ad638170-82b9-491f-8763-4d92f27a1e3e",
   "metadata": {},
   "source": [
    "$$ \\large \\log(R) = a\\log(M) + b $$"
   ]
  },
  {
   "cell_type": "markdown",
   "id": "172502c6-4edc-438f-b1f4-e1d75bc991df",
   "metadata": {},
   "source": [
    "Donde a b lo puedo pensar como $ b = \\log(c) $, con $ c = cte $."
   ]
  },
  {
   "cell_type": "markdown",
   "id": "f1b4ec63-f765-4a82-aba3-f60299e951a7",
   "metadata": {},
   "source": [
    "Con lo que si despejamos la exprecion anterior nos queda una **relacion de potencias entre el radio y la masa**."
   ]
  },
  {
   "cell_type": "markdown",
   "id": "dd098b4f-bab6-48d0-9c0a-ac7544adbf83",
   "metadata": {},
   "source": [
    "$$ \\large R = c M^a $$ "
   ]
  },
  {
   "cell_type": "markdown",
   "id": "92f3570f-a1bc-412b-a3a2-5f6d49353bbd",
   "metadata": {},
   "source": [
    "En este caso tenemos que $  a = 0.37 $ y $  c = 10^b = 0.86 $. El valor de $ a $ esta dentro de lo esperado, por que si pensaramos que todos los planetas tienen la misma densidad, la relacion entre el radio y la masa tendria que ser $ M \\propto R^3 $, con lo cual el calor de $ c $ esta relacionado de alguna forma con el factor $ 4\\pi\\bar{\\rho} $."
   ]
  },
  {
   "cell_type": "markdown",
   "id": "8d5ddbf6-e48b-4b68-956f-8c6e333fd207",
   "metadata": {},
   "source": [
    "### **3_Conclusion** "
   ]
  },
  {
   "cell_type": "markdown",
   "id": "e3f6d967-d3ac-42e5-8022-3c1e3769a140",
   "metadata": {},
   "source": [
    "El uso de SQL junto con la biblioteca Pandas nos permiten tanto la obtencion como la manipulacion de datos de una manera sencilla y practica para poder posteriormente alanizarlos y extraer , como vimos el el ejercicio 8, modelos que nos relaciones diferentes caracteristicas/parametros de los objetos en cuestion."
   ]
  },
  {
   "cell_type": "markdown",
   "id": "1324fd52-2c66-426e-bc93-ee9952a2cbc7",
   "metadata": {},
   "source": [
    "Con respecto a los ejercicios realizados podemos decir que:\n",
    "- Todas **las tecnicas de deteccion presentan sesgos** a la hora de calcular masas y periodos.\n",
    "- La distribucion de distancias a estrellas con planetas **no** siguen una distribucion gaussiana.\n",
    "- La relacion de masa-radio sigue una **ley de potencias**."
   ]
  }
 ],
 "metadata": {
  "kernelspec": {
   "display_name": "Python 3 (ipykernel)",
   "language": "python",
   "name": "python3"
  },
  "language_info": {
   "codemirror_mode": {
    "name": "ipython",
    "version": 3
   },
   "file_extension": ".py",
   "mimetype": "text/x-python",
   "name": "python",
   "nbconvert_exporter": "python",
   "pygments_lexer": "ipython3",
   "version": "3.9.7"
  }
 },
 "nbformat": 4,
 "nbformat_minor": 5
}
